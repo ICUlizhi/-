{
 "cells": [
  {
   "cell_type": "markdown",
   "metadata": {},
   "source": [
    "## Hw1"
   ]
  },
  {
   "cell_type": "markdown",
   "metadata": {
    "jp-MarkdownHeadingCollapsed": true
   },
   "source": [
    "### Q1\n",
    "##### (a)\n",
    "- Alice : 建仓所需的最少本金为 $18\\times 500 \\times 50%=4500$\n",
    "- Bill : 建仓所需的最少本金为 $18\\times 500 \\times 50%=4500$\n",
    "##### (b)\n",
    "<img src=\"./q1b-balance_sheet.jpg\" height=500 >\n",
    "##### (c)\n",
    "- Alice 收到margin call的条件为:\n",
    "$$\\frac{13500-500P}{500P}=40\\% \\Rightarrow P=19.29$$\n",
    "- Bill 收到margin call的条件为:\n",
    "$$\\frac{500P-4500}{500P}=40\\% \\Rightarrow P=15$$\n"
   ]
  },
  {
   "cell_type": "markdown",
   "metadata": {
    "jp-MarkdownHeadingCollapsed": true
   },
   "source": [
    "### Q2\n",
    "##### (a)\n",
    "$$P=\\sum_{t=1}^T\\frac{100c}{(1+y)^t}+\\frac{100}{(1+y)^T}\\tag{1}$$\n",
    "到期收益率$y$可利用以上方程解得\n",
    "##### (b)\n",
    "平价发行时$P=100$,代入式(1)得到\n",
    "$$1=\\sum_{t=1}^T\\frac{c}{(1+y)^t}+\\frac{1}{(1+y)^T}\\tag{1}$$\n",
    "解得,\n",
    "$$y=c$$\n",
    "##### (c)\n",
    "平价发行时$P>100$,代入式(1)得到\n",
    "$$c>\\left(1-\\frac{1}{(1+t)^T}\\right)\\left(\\cfrac{1-\\cfrac{1}{1+y}}{\\cfrac{1}{1+y}-\\cfrac{1}{(1+y)^{T+1}}}\\right)=y$$"
   ]
  },
  {
   "cell_type": "markdown",
   "metadata": {},
   "source": [
    "### Q3\n",
    "##### (a)\n",
    "逐个接收$Order Size$,我们发现:\n",
    "$$98+3000<4000<98+3000+4000$$\n",
    "因此yield to maturity的值为 $1.10\\%$\n",
    "##### (b)\n",
    "$$\n",
    "\\begin{align*}\n",
    "P&=\\sum_{t=1}^{T}\\frac{100\\times \\text{coupon rate}}{(1+y)^T}+\\frac{100}{(1+y)^T}\\\\\n",
    "&=\\sum_{t=1}^{5}\\frac{100\\times 2\\%}{(1+1.10\\%)^5}+\\frac{100}{(1+1.10\\%)^5}\\\\\n",
    "&=104.36\n",
    "\\end{align*}\n",
    "$$\n",
    "国债发行的价格为$\\$104.36$\n",
    "##### (c)\n",
    "该投资人每份国债的总收益为\n",
    "$$100+5\\times 100 \\times 2\\%=110$$\n",
    "因此,年化回报率为:\n",
    "$$AR=(\\frac{110}{100})^{1/5}-1=1.92\\%$$\n"
   ]
  },
  {
   "cell_type": "markdown",
   "metadata": {},
   "source": [
    "### Q4\n",
    "##### (a)\n",
    "Bid-ask spread为$50.25-49.75=0.5$,不可能小于0,因为一旦出现价格高于限价卖出订单的买入订单,交易就会瞬间完成.较小的价差意味着市场竞争剧烈\n",
    "##### (b)\n",
    "恰好有100份$\\$50.25$的Limited Sell Orders,因此该订单总价为:\n",
    "$100\\times 50.25=5025$\n",
    "##### (c)\n",
    "注意到$100<150<100+300$,因此新订单总价为:\n",
    "$$100\\times 51.50+(150-100)\\times 54.75=7887.5$$\n"
   ]
  },
  {
   "cell_type": "markdown",
   "metadata": {},
   "source": [
    "### Q5\n",
    "##### (a)\n",
    "经excel计算,三类资产实际收益率的均值和标准差(样本标准差)如下表\n",
    "|Real Return|Mean|SSD|\n",
    "|-|-|-|\n",
    "|US Stock Market|8.77%|0.161|\n",
    "|Long Term Treasury|4.67%|0.148|\n",
    "|Gold|3.61%|0.214|\n",
    "\n",
    "PS : 计算实际收益率的公式为 $r=\\frac{1+\\text{名义收益率}}{1+\\text{通胀率}}-1$\n",
    "##### (b)\n",
    "- 美国年化通胀率的均值为$3.57\\%$,标准差为$0.0280$\n",
    "- 上述三类资产的实际收益率与通胀率的相关系数分别为:$- 0.0877,-0.452,0.262$\n",
    "##### (c)\n",
    "如下表:\n",
    "|$1|Nominal Value|Real Value|\n",
    "|-|-|-|\n",
    "|US Stock Market|122.66|25.66|\n",
    "|Long Term Treasury|23.79|4.98|\n",
    "|Gold|10.23|2.14|\n",
    "\n",
    "实际价值可以视为实际收益的累乘,实际上也是名义收益与通胀累乘的比,两种计算方法的结果是相同的\n"
   ]
  },
  {
   "cell_type": "markdown",
   "metadata": {},
   "source": [
    "### Q6\n",
    "##### (a)\n"
   ]
  },
  {
   "cell_type": "code",
   "execution_count": 4,
   "metadata": {},
   "outputs": [
    {
     "name": "stdout",
     "output_type": "stream",
     "text": [
      "基金序列号: 005960.OF\n",
      "月度收益率均值: 0.005558680328667218\n",
      "月度收益率标准差: 0.04483560117613314\n",
      "\n",
      "基金序列号: 000008.OF\n",
      "月度收益率均值: 0.006594566740407141\n",
      "月度收益率标准差: 0.05657293402371166\n",
      "\n",
      "         005960.OF  000008.OF\n",
      "日期                           \n",
      "2018-12        NaN        NaN\n",
      "2019-01   0.036307   0.000883\n",
      "2019-02   0.116005   0.186574\n",
      "2019-03   0.081224   0.100513\n",
      "2019-04  -0.026454  -0.040803\n",
      "...            ...        ...\n",
      "2023-10  -0.041242  -0.027211\n",
      "2023-11  -0.007169   0.002753\n",
      "2023-12  -0.021218  -0.019845\n",
      "2024-01  -0.028782  -0.128104\n",
      "2024-02   0.079996   0.130057\n",
      "\n",
      "[63 rows x 2 columns]\n",
      "基金序列之间的协方差矩阵:\n",
      "           005960.OF  000008.OF\n",
      "005960.OF   0.002010   0.002152\n",
      "000008.OF   0.002152   0.003200\n",
      "\n",
      "基金序列之间的相关系数矩阵:\n",
      "           005960.OF  000008.OF\n",
      "005960.OF   1.000000   0.848266\n",
      "000008.OF   0.848266   1.000000\n"
     ]
    }
   ],
   "source": [
    "import pandas as pd\n",
    "\n",
    "def calculate_monthly_returns(file_path):\n",
    "    # 创建一个空字典，用于存储不同sheet页面的月度数据\n",
    "    monthly_data_by_sheet = {}\n",
    "\n",
    "    # 读取每个sheet页面并处理\n",
    "    with pd.ExcelFile(file_path) as xls:\n",
    "        for sheet_name in xls.sheet_names:\n",
    "            # print(f\"正在处理 {sheet_name} sheet...\")\n",
    "            # 读取每个sheet页面的数据\n",
    "            df = pd.read_excel(xls, sheet_name)\n",
    "            # print(\"读取数据后的前几行:\")\n",
    "            # print(df.head())\n",
    "\n",
    "            # 将日期列转换为日期时间类型\n",
    "            df['日期'] = pd.to_datetime(df['日期'])\n",
    "            # print(\"转换日期列后的数据:\")\n",
    "            # print(df.head())\n",
    "\n",
    "            # 筛选出指定时间范围的数据\n",
    "            start_date = pd.Timestamp('2018-12-01')\n",
    "            end_date = pd.Timestamp('2024-02-29')  # 考虑到闰年\n",
    "            df = df[(df['日期'] >= start_date) & (df['日期'] <= end_date)]\n",
    "            # print(\"筛选出指定时间范围后的数据:\")\n",
    "            # print(df.head())\n",
    "\n",
    "            # 按月分组并提取每个月最后一天的数据\n",
    "            monthly_data = df.groupby(df['日期'].dt.to_period('M')).apply(lambda x: x[x['日期'] == x['日期'].max()])\n",
    "            # print(\"按月分组后的数据:\")\n",
    "            # print(monthly_data.head())\n",
    "\n",
    "            # 保留所需列并重置索引\n",
    "            monthly_data = monthly_data[['日期', '单位净值(元)']]\n",
    "            monthly_data.set_index(monthly_data['日期'].dt.to_period('M'), inplace=True)  # 将年月设置为索引\n",
    "            monthly_data.drop(columns=['日期'], inplace=True)  # 删除原日期列\n",
    "            # print(\"设置日期为索引后的数据:\")\n",
    "            # print(monthly_data.head())\n",
    "\n",
    "            # 计算月度收益率\n",
    "            monthly_data['上月净值'] = monthly_data['单位净值(元)'].shift(1)  # 获取上一个月的净值\n",
    "            monthly_data['月度收益率'] = (monthly_data['单位净值(元)'] - monthly_data['上月净值']) / monthly_data['上月净值']\n",
    "            # print(\"计算月度收益率后的数据:\")\n",
    "            # print(monthly_data.head())\n",
    "\n",
    "            # 删除上月净值列\n",
    "            monthly_data.drop(columns=['上月净值'], inplace=True)\n",
    "            # print(\"删除上月净值列后的数据:\")\n",
    "            # print(monthly_data.head())\n",
    "\n",
    "            # 将每个sheet页面的月度数据存储到字典中\n",
    "            monthly_data_by_sheet[sheet_name] = monthly_data['月度收益率']\n",
    "\n",
    "    return monthly_data_by_sheet\n",
    "\n",
    "# 计算基金序列之间的协方差\n",
    "def calculate_covariance_matrix(file_path):\n",
    "    # 调用函数计算月度收益率\n",
    "    monthly_returns_by_sheet = calculate_monthly_returns(file_path)\n",
    "\n",
    "    # 合并为DataFrame\n",
    "    df = pd.DataFrame(monthly_returns_by_sheet)\n",
    "    print(df)\n",
    "\n",
    "    # 计算协方差矩阵时保留公共日期部分\n",
    "    covariance_matrix = df.cov()\n",
    "\n",
    "    # 计算相关系数矩阵\n",
    "    correlation_matrix = df.corr()\n",
    "\n",
    "    return covariance_matrix, correlation_matrix\n",
    "    \n",
    "# 调用函数并输出结果\n",
    "file_path = '作业基金数据.xlsx'\n",
    "monthly_returns_by_sheet = calculate_monthly_returns(file_path)\n",
    "# 计算月度收益率的均值和标准差\n",
    "for sheet_name, monthly_returns in monthly_returns_by_sheet.items():\n",
    "    print(f\"基金序列号: {sheet_name}\")\n",
    "    print(\"月度收益率均值:\", monthly_returns.mean())\n",
    "    print(\"月度收益率标准差:\", monthly_returns.std())\n",
    "    print()\n",
    "\n",
    "covariance_matrix, correlation_matrix = calculate_covariance_matrix(file_path)\n",
    "print(\"基金序列之间的协方差矩阵:\")\n",
    "print(covariance_matrix)\n",
    "print(\"\\n基金序列之间的相关系数矩阵:\")\n",
    "print(correlation_matrix)\n"
   ]
  },
  {
   "cell_type": "markdown",
   "metadata": {},
   "source": [
    "从计算结果中发现,嘉实 500 中证 ETF 联接 A的收益和风险均显著高于博时量化价值A,两只基金收益相关性较强"
   ]
  },
  {
   "cell_type": "markdown",
   "metadata": {},
   "source": [
    "#### (b)\n",
    "[中航首钢绿能 REIT【SZ180801】](https://finance.sina.com.cn/fund/quotes/180801/bc.shtml)是封闭式基金,原因有:\n",
    "- 网站明确说明了是封闭式基金\n",
    "- 申购状态为不可申购\n",
    "- 固定投资组合\n",
    "- 折溢价率为正\n",
    "\n",
    "注意到:\n",
    "- 市场交易价格为 13.6690 元\n",
    "- 单位净值为 10.1308 元\n",
    "将这些数据代入计算公式，即可得到折溢价率：\n",
    "$$折溢价率=\\frac{P-NAV}{NAV}\\times 100\\%= 34.92\\%$$\n",
    "\n",
    "根据以上计算过程,封闭式基金折价是指基金的市场交易价格低于其单位净值的情况。\n",
    "\n",
    "#### (c)\n",
    "当基金份额价格为19元时,\n",
    "$$NAV=2000/100=20$$\n",
    "由于市场价格低于NAV，这意味着份额被低估了。对冲策略管理人可以采取以下步骤：\n",
    "- 以市场价格买入份额\n",
    "- 等待市场价格上涨到接近NAV时卖出份额\n",
    "\n",
    "当基金份额价格为22元时,管理人可以选择卖出份额<br/>\n",
    "当基金份额价格为20元时,份额的价格正确反映了基金的净资产值,因此没有套利机会"
   ]
  }
 ],
 "metadata": {
  "kernelspec": {
   "display_name": "Python 3 (ipykernel)",
   "language": "python",
   "name": "python3"
  },
  "language_info": {
   "codemirror_mode": {
    "name": "ipython",
    "version": 3
   },
   "file_extension": ".py",
   "mimetype": "text/x-python",
   "name": "python",
   "nbconvert_exporter": "python",
   "pygments_lexer": "ipython3",
   "version": "3.8.10"
  }
 },
 "nbformat": 4,
 "nbformat_minor": 4
}
